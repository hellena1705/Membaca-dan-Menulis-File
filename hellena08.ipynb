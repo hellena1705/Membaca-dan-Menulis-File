{
  "nbformat": 4,
  "nbformat_minor": 0,
  "metadata": {
    "colab": {
      "provenance": []
    },
    "kernelspec": {
      "name": "python3",
      "display_name": "Python 3"
    },
    "language_info": {
      "name": "python"
    }
  },
  "cells": [
    {
      "cell_type": "markdown",
      "source": [
        "soal 1"
      ],
      "metadata": {
        "id": "MnOcfh7caiXY"
      }
    },
    {
      "cell_type": "code",
      "source": [
        "def compare_files(file1_path, file2_path):\n",
        "    with open(file1_path, 'r') as file1:\n",
        "        lines1 = file1.readlines()\n",
        "\n",
        "    with open(file2_path, 'r') as file2:\n",
        "        lines2 = file2.readlines()\n",
        "\n",
        "    for i, (line1, line2) in enumerate(zip(lines1, lines2), start=1):\n",
        "        if line1 != line2:\n",
        "            print(f\"Perbedaan pada baris {i}:\")\n",
        "            print(f\"File 1: {line1.strip()}\")\n",
        "            print(f\"File 2: {line2.strip()}\")\n",
        "            print()\n",
        "\n",
        "    if len(lines1) != len(lines2):\n",
        "        print(\"Jumlah baris pada kedua file berbeda.\")\n",
        "\n",
        "\n",
        "file1_path = \"file1.txt\"\n",
        "file2_path = \"file2.txt\"\n",
        "\n",
        "compare_files(file1_path, file2_path)"
      ],
      "metadata": {
        "id": "rRYPXKWEaj3D"
      },
      "execution_count": null,
      "outputs": []
    },
    {
      "cell_type": "markdown",
      "source": [
        "soal 2"
      ],
      "metadata": {
        "id": "mL0P2jKXazOV"
      }
    },
    {
      "cell_type": "code",
      "source": [
        "def load_questions(file_path):\n",
        "    questions = []\n",
        "    with open(file_path, 'r') as file:\n",
        "        for line in file:\n",
        "            question, answer = line.strip().split(\"||\")\n",
        "            questions.append((question.strip(), answer.strip()))\n",
        "    return questions\n",
        "\n",
        "def main():\n",
        "    file_path = \"soal.txt\"\n",
        "    questions = load_questions(file_path)\n",
        "\n",
        "    print(f\"nama file1: {file_path}\")\n",
        "    for i, (question, correct_answer) in enumerate(questions, start=1):\n",
        "        print(f\"{i}. {question}\")\n",
        "        user_answer = input(\"Jawab: \").strip().lower()\n",
        "        if user_answer == correct_answer.lower():\n",
        "            print(\"Jawaban benar!\")\n",
        "        else:\n",
        "            print(\"Jawaban salah!\")\n",
        "\n",
        "if __name__ == \"__main__\":\n",
        "    main()"
      ],
      "metadata": {
        "id": "8yWCc0gUa1T6"
      },
      "execution_count": null,
      "outputs": []
    }
  ]
}